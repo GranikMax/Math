{
 "cells": [
  {
   "cell_type": "markdown",
   "id": "3d698bbf",
   "metadata": {},
   "source": [
    "# На языке Python предложить алгоритм вычисляющий численно предел последовательности\n",
    "\n"
   ]
  },
  {
   "cell_type": "code",
   "execution_count": 2,
   "id": "d05c54f2",
   "metadata": {
    "scrolled": true
   },
   "outputs": [
    {
     "data": {
      "text/plain": [
       "(2.718281825079714, 2.718281828459045, 3.37933103722321e-09)"
      ]
     },
     "execution_count": 2,
     "metadata": {},
     "output_type": "execute_result"
    }
   ],
   "source": [
    "import numpy as np\n",
    "\n",
    "\n",
    "def fact(n):\n",
    "    return np.e / ((2 * np.pi * n)**(1/(2*n)))\n",
    "\n",
    "\n",
    "n = 10**10\n",
    "x = fact(n)\n",
    "x, np.e, abs(np.e - x)"
   ]
  },
  {
   "cell_type": "code",
   "execution_count": 3,
   "id": "8c007892",
   "metadata": {},
   "outputs": [
    {
     "data": {
      "text/plain": [
       "(11779, 2.7169884253561034, 0.0012934031029416815)"
      ]
     },
     "execution_count": 3,
     "metadata": {},
     "output_type": "execute_result"
    }
   ],
   "source": [
    "lim = 1\n",
    "n = 1\n",
    "a2 = fact(n)\n",
    "eps = 1/10**7\n",
    "\n",
    "while lim > eps:\n",
    "    n += 1\n",
    "    a1 = a2\n",
    "    a2 = fact(n)\n",
    "    lim = abs(a1 - a2)\n",
    "\n",
    "n, a2, np.e - a2"
   ]
  },
  {
   "cell_type": "code",
   "execution_count": 4,
   "id": "90106398",
   "metadata": {},
   "outputs": [
    {
     "data": {
      "image/png": "[encoded data removed]",
      "text/latex": [
       "$\\displaystyle n n!^{- \\frac{1}{n}}$"
      ],
      "text/plain": [
       "    -1 \n",
       "    ───\n",
       "     n \n",
       "n⋅n!   "
      ]
     },
     "execution_count": 4,
     "metadata": {},
     "output_type": "execute_result"
    }
   ],
   "source": [
    "from sympy import *\n",
    "import warnings\n",
    "warnings.filterwarnings('ignore')\n",
    "init_printing()\n",
    "\n",
    "\n",
    "n = Symbol('n')\n",
    "a = n / (factorial(n)**(1/n))\n",
    "a"
   ]
  },
  {
   "cell_type": "code",
   "execution_count": 5,
   "id": "8be2101e",
   "metadata": {},
   "outputs": [
    {
     "data": {
      "image/png": "[encoded data removed]",
      "text/latex": [
       "$\\displaystyle e$"
      ],
      "text/plain": [
       "ℯ"
      ]
     },
     "execution_count": 5,
     "metadata": {},
     "output_type": "execute_result"
    }
   ],
   "source": [
    "limit(a, n, oo)"
   ]
  },
  {
   "cell_type": "code",
   "execution_count": 6,
   "id": "b63a8968",
   "metadata": {},
   "outputs": [
    {
     "data": {
      "image/png": "[encoded data removed]",
      "text/latex": [
       "$\\displaystyle e \\left(2 \\pi n\\right)^{- \\frac{1}{2 n}}$"
      ],
      "text/plain": [
       "         -1 \n",
       "         ───\n",
       "         2⋅n\n",
       "ℯ⋅(2⋅π⋅n)   "
      ]
     },
     "execution_count": 6,
     "metadata": {},
     "output_type": "execute_result"
    }
   ],
   "source": [
    "a = E / ((2*pi*n))**(1/(2*n))\n",
    "a"
   ]
  },
  {
   "cell_type": "code",
   "execution_count": 7,
   "id": "641ba603",
   "metadata": {},
   "outputs": [
    {
     "data": {
      "image/png": "[encoded data removed]",
      "text/latex": [
       "$\\displaystyle e$"
      ],
      "text/plain": [
       "ℯ"
      ]
     },
     "execution_count": 7,
     "metadata": {},
     "output_type": "execute_result"
    }
   ],
   "source": [
    "limit(a, n, oo)"
   ]
  },
  {
   "cell_type": "code",
   "execution_count": null,
   "id": "c5a04f16",
   "metadata": {},
   "outputs": [],
   "source": []
  }
 ],
 "metadata": {
  "kernelspec": {
   "display_name": "Python 3 (ipykernel)",
   "language": "python",
   "name": "python3"
  },
  "language_info": {
   "codemirror_mode": {
    "name": "ipython",
    "version": 3
   },
   "file_extension": ".py",
   "mimetype": "text/x-python",
   "name": "python",
   "nbconvert_exporter": "python",
   "pygments_lexer": "ipython3",
   "version": "3.9.12"
  }
 },
 "nbformat": 4,
 "nbformat_minor": 5
}
